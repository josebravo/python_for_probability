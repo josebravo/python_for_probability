{
 "cells": [
  {
   "cell_type": "markdown",
   "metadata": {},
   "source": [
    "# 1. Snooker (Decision tree problem)\n",
    "\n",
    "1) In a best of 9 frame snooker match between Player A and Player B, it is estimated that the probability for Player A to win the first frame is 65%. Using this information:\n",
    "\n",
    "    a)\testimate the probability for Player B to lose the match,\n",
    "    b)\testimate the probability for there to be at least 8 frames played in the match,\n",
    "    c)\twhat would be an appropriate level of odds (in decimal format) to offer for Player A to win the match.\n"
   ]
  },
  {
   "cell_type": "markdown",
   "metadata": {},
   "source": [
    "## Q1.a) Estimate the probability for Player A to win the match"
   ]
  },
  {
   "cell_type": "code",
   "execution_count": 1,
   "metadata": {},
   "outputs": [],
   "source": [
    "import scipy.stats as sp\n",
    "import numpy as np\n",
    "from numpy.random import binomial\n",
    "from numpy import random\n",
    "from scipy.stats import binom "
   ]
  },
  {
   "cell_type": "code",
   "execution_count": 6,
   "metadata": {},
   "outputs": [
    {
     "data": {
      "text/plain": [
       "0.17171928552734378"
      ]
     },
     "execution_count": 6,
     "metadata": {},
     "output_type": "execute_result"
    }
   ],
   "source": [
    "# Theoretical probability\n",
    "# probability of Player A winning at least 5 frames\n",
    "# binom.cdf(k-1, n, p) = probability of Player A winning at most 4 frames\n",
    "# 1 - at_most_4_frames = probability of Player A winning at least 5 frames\n",
    "\n",
    "k = 5 # Number of wins\n",
    "n = 9 # number of frames\n",
    "p = 0.65 # probability for Player A to win (any frame)\n",
    "\n",
    "prob_A_to_win = 1-sp.binom.cdf(k-1, n, p) # Cumulative distribution function - cdf(k, n, p, loc=0)\n",
    "prob_B_to_lose = sp.binom.cdf(k-1, n, p) # Cumulative distribution function - cdf(k, n, p, loc=0)\n",
    "\n",
    "prob_B_to_lose"
   ]
  },
  {
   "cell_type": "code",
   "execution_count": 10,
   "metadata": {},
   "outputs": [
    {
     "data": {
      "text/plain": [
       "0.17015000000000002"
      ]
     },
     "execution_count": 10,
     "metadata": {},
     "output_type": "execute_result"
    }
   ],
   "source": [
    "# Experimental solution \n",
    "\n",
    "n = 9 # number of frames\n",
    "k = 5 # Number of wins\n",
    "p = 0.65 # probability of success\n",
    "size = 100000 # number of times tested\n",
    "\n",
    "prob_A_to_win_exp = sum(np.random.binomial(n, p, size) >= k)/size\n",
    "\n",
    "prob_B_to_lose_exp = 1 - prob_A_to_win_exp\n",
    "\n",
    "prob_B_to_lose_exp"
   ]
  },
  {
   "cell_type": "markdown",
   "metadata": {},
   "source": [
    "## Q1.b) estimate the probability for there to be at least 8 frames played in the match"
   ]
  },
  {
   "cell_type": "code",
   "execution_count": 63,
   "metadata": {},
   "outputs": [],
   "source": [
    "def prob_calc (k, n, p):\n",
    "    x = sp.binom.pmf(k, n, p) # Probability mass function: pmf(k, n, p)\n",
    "    y = x * p\n",
    "    return y"
   ]
  },
  {
   "cell_type": "code",
   "execution_count": 64,
   "metadata": {},
   "outputs": [
    {
     "data": {
      "text/plain": [
       "0.5306322656250001"
      ]
     },
     "execution_count": 64,
     "metadata": {},
     "output_type": "execute_result"
    }
   ],
   "source": [
    "solution_1_B = prob_calc(4, 7, .55) + prob_calc(4, 8, .55) + prob_calc(4, 7, .45) + prob_calc(4, 8, .45)\n",
    "solution_1_B"
   ]
  },
  {
   "cell_type": "markdown",
   "metadata": {},
   "source": [
    "## Q1.c) what would be an appropriate level of odds (in decimal format) to offer for Player A to win the match."
   ]
  },
  {
   "cell_type": "code",
   "execution_count": 11,
   "metadata": {},
   "outputs": [
    {
     "data": {
      "text/plain": [
       "1.207320154298984"
      ]
     },
     "execution_count": 11,
     "metadata": {},
     "output_type": "execute_result"
    }
   ],
   "source": [
    "solution_1_C = 1 / prob_A_to_win\n",
    "solution_1_C"
   ]
  }
 ],
 "metadata": {
  "kernelspec": {
   "display_name": "Python 3",
   "language": "python",
   "name": "python3"
  },
  "language_info": {
   "codemirror_mode": {
    "name": "ipython",
    "version": 3
   },
   "file_extension": ".py",
   "mimetype": "text/x-python",
   "name": "python",
   "nbconvert_exporter": "python",
   "pygments_lexer": "ipython3",
   "version": "3.8.3"
  }
 },
 "nbformat": 4,
 "nbformat_minor": 4
}
