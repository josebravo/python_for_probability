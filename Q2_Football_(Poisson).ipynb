{
 "cells": [
  {
   "cell_type": "markdown",
   "metadata": {},
   "source": [
    "# Question 2 - Football\n",
    "\n",
    "In a football match between Team A and Team B, Team A is estimated to have a goals expectancy of 1.3 goals and Team B is estimated to have a goals expectancy of 1.6 goals. \n",
    "\n",
    "Using the Poisson Distribution:\n",
    "\n",
    "    a)\testimate the probability for Team A not to win the match,\n",
    "    b)\testimate the probability for there to be at least 3.6 goals in the match\n",
    "    c)\twhat would be an appropriate level of odds (in decimal format) to offer for the match to be drawn.\n"
   ]
  },
  {
   "cell_type": "markdown",
   "metadata": {},
   "source": [
    "## Q2.a) Estimate the probability for Team A to win the match,"
   ]
  },
  {
   "cell_type": "code",
   "execution_count": 8,
   "metadata": {},
   "outputs": [
    {
     "name": "stdout",
     "output_type": "stream",
     "text": [
      "The probability for Team A to win is 0.6913018067639963\n"
     ]
    }
   ],
   "source": [
    "# a) estimate the probability for Team A to win the match\n",
    "\n",
    "from scipy.stats import poisson\n",
    "\n",
    "λ_a = 1.3\n",
    "λ_b = 1.6\n",
    "goals_A = 5 # maximum number of goals scored by Team A\n",
    "goals_B = 5 # maximum number of goals scored by Team B\n",
    "\n",
    "def p_team_A_win(λa, λb, x, y):\n",
    "    a = 0\n",
    "    b = 0\n",
    "    p = 0\n",
    "    \n",
    "    for x in range (0, x+1):\n",
    "        b = poisson.pmf(x,λb)\n",
    "        #print(\"b:\", b)\n",
    "        for y in range (x+1, y+1):\n",
    "            a += poisson.pmf(y,λa)\n",
    "            #print(\"y:\",y, \"a:\", a)\n",
    "        p += (a * b)\n",
    "        a = 0\n",
    "    return p\n",
    "\n",
    "p_team_A_not_to_win = 1 - p_team_A_win(λ_a, λ_b, goals_B, goals_A)\n",
    "      \n",
    "print(\"The probability for Team A not to win is {}\".format(p_team_A_not_to_win))"
   ]
  },
  {
   "cell_type": "markdown",
   "metadata": {},
   "source": [
    "## Q2.b) Estimate the probability for there to be at least 2.5 goals in the match"
   ]
  },
  {
   "attachments": {
    "image.png": {
     "image/png": "[encoded data removed]"
    }
   },
   "cell_type": "markdown",
   "metadata": {},
   "source": [
    "![image.png](attachment:image.png)\n",
    "https://math.stackexchange.com/questions/221078/poisson-distribution-of-sum-of-two-random-independent-variables-x-y"
   ]
  },
  {
   "cell_type": "code",
   "execution_count": 10,
   "metadata": {},
   "outputs": [
    {
     "name": "stdout",
     "output_type": "stream",
     "text": [
      "prob: 0.6696234175498001\n"
     ]
    }
   ],
   "source": [
    "# Q2.b) Estimate the probability for there to be at least 2.5 goals in the match\n",
    "\n",
    "from scipy.stats import poisson\n",
    "\n",
    "λ_a = 1.3\n",
    "λ_b = 1.6\n",
    "λ = λ_a + λ_b\n",
    "\n",
    "x = 3.6\n",
    "\n",
    "prob = poisson.cdf(x, λ) # cdf(k, mu, loc=0) Cumulative distribution function.\n",
    "\n",
    "print(\"prob:\", prob)"
   ]
  },
  {
   "cell_type": "markdown",
   "metadata": {},
   "source": [
    "## Q2.c) What would be an appropriate level of odds (in decimal format) to offer for the match to be drawn."
   ]
  },
  {
   "cell_type": "code",
   "execution_count": 11,
   "metadata": {},
   "outputs": [
    {
     "name": "stdout",
     "output_type": "stream",
     "text": [
      "The probability for the match to be drawn: 0.2447\n",
      "The corresponding odds (in decimal format): 4.09\n"
     ]
    }
   ],
   "source": [
    "from scipy.stats import poisson\n",
    "\n",
    "λ_a = 1.3\n",
    "λ_b = 1.6\n",
    "n_goals = 10 # maximum number of goals scored by each team\n",
    "\n",
    "\n",
    "def p_team_A_win(λa, λb, x):\n",
    "    a = 0\n",
    "    b = 0\n",
    "    p = 0\n",
    "    \n",
    "    for x in range (0, x+1):\n",
    "        a = poisson.pmf(x,λa)\n",
    "        b = poisson.pmf(x,λb)\n",
    "        p += (a * b)\n",
    "    return p\n",
    "\n",
    "prob = p_team_A_win(λ_a, λ_b, n_goals)\n",
    "prob2 = round(prob, 4)\n",
    "      \n",
    "print(\"The probability for the match to be drawn: {}\".format(prob2))\n",
    "\n",
    "odds = round((1/prob), 2)\n",
    "\n",
    "print(\"The corresponding odds (in decimal format): {}\".format(odds))"
   ]
  }
 ],
 "metadata": {
  "kernelspec": {
   "display_name": "Python 3",
   "language": "python",
   "name": "python3"
  },
  "language_info": {
   "codemirror_mode": {
    "name": "ipython",
    "version": 3
   },
   "file_extension": ".py",
   "mimetype": "text/x-python",
   "name": "python",
   "nbconvert_exporter": "python",
   "pygments_lexer": "ipython3",
   "version": "3.8.3"
  }
 },
 "nbformat": 4,
 "nbformat_minor": 4
}
